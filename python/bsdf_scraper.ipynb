version https://git-lfs.github.com/spec/v1
oid sha256:f9093995a367c87b129bf13de50c05fe603f939714414d24e92044e2b28794c8
size 14423
